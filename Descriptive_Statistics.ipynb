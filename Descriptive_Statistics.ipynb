{
  "cells": [
    {
      "cell_type": "markdown",
      "metadata": {
        "id": "view-in-github",
        "colab_type": "text"
      },
      "source": [
        "<a href=\"https://colab.research.google.com/github/Jingzhi-cyber/jz422-IDS706-Week9-Colab/blob/main/Descriptive_Statistics.ipynb\" target=\"_parent\"><img src=\"https://colab.research.google.com/assets/colab-badge.svg\" alt=\"Open In Colab\"/></a>"
      ]
    },
    {
      "cell_type": "markdown",
      "metadata": {
        "id": "Gt1sGudwMCG3"
      },
      "source": [
        "# Descriptive Statistics with Pandas\n",
        "This notebook performs basic descriptive statistics using Pandas."
      ]
    },
    {
      "cell_type": "code",
      "execution_count": null,
      "metadata": {
        "id": "4-fxwNzHMCG7"
      },
      "outputs": [],
      "source": [
        "import lib"
      ]
    },
    {
      "cell_type": "markdown",
      "metadata": {
        "id": "l12GyPhOMCG8"
      },
      "source": [
        "## Reading Data\n",
        "We will read the data from a CSV file into a Pandas DataFrame."
      ]
    },
    {
      "cell_type": "code",
      "execution_count": null,
      "metadata": {
        "id": "aEaMEvjfMCG9",
        "outputId": "50980967-2412-4ee4-f549-891ea6fd5106"
      },
      "outputs": [
        {
          "data": {
            "text/html": [
              "<div>\n",
              "<style scoped>\n",
              "    .dataframe tbody tr th:only-of-type {\n",
              "        vertical-align: middle;\n",
              "    }\n",
              "\n",
              "    .dataframe tbody tr th {\n",
              "        vertical-align: top;\n",
              "    }\n",
              "\n",
              "    .dataframe thead th {\n",
              "        text-align: right;\n",
              "    }\n",
              "</style>\n",
              "<table border=\"1\" class=\"dataframe\">\n",
              "  <thead>\n",
              "    <tr style=\"text-align: right;\">\n",
              "      <th></th>\n",
              "      <th>Month</th>\n",
              "      <th>Average</th>\n",
              "      <th>2005</th>\n",
              "      <th>2006</th>\n",
              "      <th>2007</th>\n",
              "      <th>2008</th>\n",
              "      <th>2009</th>\n",
              "      <th>2010</th>\n",
              "      <th>2011</th>\n",
              "      <th>2012</th>\n",
              "      <th>2013</th>\n",
              "      <th>2014</th>\n",
              "      <th>2015</th>\n",
              "    </tr>\n",
              "  </thead>\n",
              "  <tbody>\n",
              "    <tr>\n",
              "      <th>0</th>\n",
              "      <td>May</td>\n",
              "      <td>0.1</td>\n",
              "      <td>0</td>\n",
              "      <td>0</td>\n",
              "      <td>1</td>\n",
              "      <td>1</td>\n",
              "      <td>0</td>\n",
              "      <td>0</td>\n",
              "      <td>0</td>\n",
              "      <td>2</td>\n",
              "      <td>0</td>\n",
              "      <td>0</td>\n",
              "      <td>0</td>\n",
              "    </tr>\n",
              "    <tr>\n",
              "      <th>1</th>\n",
              "      <td>Jun</td>\n",
              "      <td>0.5</td>\n",
              "      <td>2</td>\n",
              "      <td>1</td>\n",
              "      <td>1</td>\n",
              "      <td>0</td>\n",
              "      <td>0</td>\n",
              "      <td>1</td>\n",
              "      <td>1</td>\n",
              "      <td>2</td>\n",
              "      <td>2</td>\n",
              "      <td>0</td>\n",
              "      <td>1</td>\n",
              "    </tr>\n",
              "    <tr>\n",
              "      <th>2</th>\n",
              "      <td>Jul</td>\n",
              "      <td>0.7</td>\n",
              "      <td>5</td>\n",
              "      <td>1</td>\n",
              "      <td>1</td>\n",
              "      <td>2</td>\n",
              "      <td>0</td>\n",
              "      <td>1</td>\n",
              "      <td>3</td>\n",
              "      <td>0</td>\n",
              "      <td>2</td>\n",
              "      <td>2</td>\n",
              "      <td>1</td>\n",
              "    </tr>\n",
              "    <tr>\n",
              "      <th>3</th>\n",
              "      <td>Aug</td>\n",
              "      <td>2.3</td>\n",
              "      <td>6</td>\n",
              "      <td>3</td>\n",
              "      <td>2</td>\n",
              "      <td>4</td>\n",
              "      <td>4</td>\n",
              "      <td>4</td>\n",
              "      <td>7</td>\n",
              "      <td>8</td>\n",
              "      <td>2</td>\n",
              "      <td>2</td>\n",
              "      <td>3</td>\n",
              "    </tr>\n",
              "    <tr>\n",
              "      <th>4</th>\n",
              "      <td>Sep</td>\n",
              "      <td>3.5</td>\n",
              "      <td>6</td>\n",
              "      <td>4</td>\n",
              "      <td>7</td>\n",
              "      <td>4</td>\n",
              "      <td>2</td>\n",
              "      <td>8</td>\n",
              "      <td>5</td>\n",
              "      <td>2</td>\n",
              "      <td>5</td>\n",
              "      <td>2</td>\n",
              "      <td>5</td>\n",
              "    </tr>\n",
              "  </tbody>\n",
              "</table>\n",
              "</div>"
            ],
            "text/plain": [
              "  Month  Average  2005  2006  2007  2008  2009  2010  2011  2012  2013  2014  \\\n",
              "0   May      0.1     0     0     1     1     0     0     0     2     0     0   \n",
              "1   Jun      0.5     2     1     1     0     0     1     1     2     2     0   \n",
              "2   Jul      0.7     5     1     1     2     0     1     3     0     2     2   \n",
              "3   Aug      2.3     6     3     2     4     4     4     7     8     2     2   \n",
              "4   Sep      3.5     6     4     7     4     2     8     5     2     5     2   \n",
              "\n",
              "   2015  \n",
              "0     0  \n",
              "1     1  \n",
              "2     1  \n",
              "3     3  \n",
              "4     5  "
            ]
          },
          "execution_count": 4,
          "metadata": {},
          "output_type": "execute_result"
        }
      ],
      "source": [
        "# Reading the dataset\n",
        "file_path = \"hurricanes.csv\"\n",
        "df = lib.read_dataset(file_path)\n",
        "df.head()"
      ]
    },
    {
      "cell_type": "markdown",
      "metadata": {
        "id": "hr9neuI8MCG-"
      },
      "source": [
        "## Summary Statistics\n",
        "Performing basic summary statistics like mean, median, and standard deviation."
      ]
    },
    {
      "cell_type": "code",
      "execution_count": null,
      "metadata": {
        "id": "Y0oQ3wyNMCG-",
        "outputId": "3e9ee5ee-6ed2-4686-aa3c-6bab4253a270"
      },
      "outputs": [
        {
          "data": {
            "text/plain": [
              "{'mean': Average    1.200\n",
              " 2005       3.875\n",
              " 2006       1.125\n",
              " 2007       1.750\n",
              " 2008       1.875\n",
              " 2009       1.125\n",
              " 2010       2.375\n",
              " 2011       2.250\n",
              " 2012       2.375\n",
              " 2013       1.750\n",
              " 2014       1.125\n",
              " 2015       1.500\n",
              " dtype: float64,\n",
              " 'median': Average    0.6\n",
              " 2005       4.0\n",
              " 2006       0.5\n",
              " 2007       1.0\n",
              " 2008       1.5\n",
              " 2009       0.5\n",
              " 2010       1.0\n",
              " 2011       1.0\n",
              " 2012       2.0\n",
              " 2013       2.0\n",
              " 2014       1.0\n",
              " 2015       1.0\n",
              " dtype: float64,\n",
              " 'std_dev': Average    1.254705\n",
              " 2005       2.799872\n",
              " 2006       1.552648\n",
              " 2007       2.187628\n",
              " 2008       1.642081\n",
              " 2009       1.457738\n",
              " 2010       2.973094\n",
              " 2011       2.549510\n",
              " 2012       2.825269\n",
              " 2013       1.581139\n",
              " 2014       1.246423\n",
              " 2015       1.690309\n",
              " dtype: float64}"
            ]
          },
          "execution_count": 5,
          "metadata": {},
          "output_type": "execute_result"
        }
      ],
      "source": [
        "# Generate summary statistics\n",
        "stats = lib.summary_statistics(df)\n",
        "stats"
      ]
    },
    {
      "cell_type": "markdown",
      "metadata": {
        "id": "Dh4rUHNxMCG-"
      },
      "source": [
        "## Data Visualization\n",
        "Creating a histogram for the \"Average\" column."
      ]
    },
    {
      "cell_type": "code",
      "execution_count": null,
      "metadata": {
        "id": "Y1kyM6n0MCG_",
        "outputId": "2e8fe9ec-1e8c-41b0-ff13-60a228a9f55d"
      },
      "outputs": [
        {
          "data": {
            "image/png": "[encoded data removed]",
            "text/plain": [
              "<Figure size 640x480 with 1 Axes>"
            ]
          },
          "metadata": {},
          "output_type": "display_data"
        }
      ],
      "source": [
        "lib.data_visualization(df, \"Average\")"
      ]
    }
  ],
  "metadata": {
    "kernelspec": {
      "display_name": "Python 3",
      "language": "python",
      "name": "python3"
    },
    "language_info": {
      "codemirror_mode": {
        "name": "ipython",
        "version": 3
      },
      "file_extension": ".py",
      "mimetype": "text/x-python",
      "name": "python",
      "nbconvert_exporter": "python",
      "pygments_lexer": "ipython3",
      "version": "3.8.10"
    },
    "orig_nbformat": 4,
    "colab": {
      "provenance": [],
      "include_colab_link": true
    }
  },
  "nbformat": 4,
  "nbformat_minor": 0
}